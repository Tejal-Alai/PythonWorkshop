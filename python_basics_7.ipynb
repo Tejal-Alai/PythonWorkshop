{
 "cells": [
  {
   "cell_type": "markdown",
   "id": "9136c3c2-3e86-44fe-b422-a988c3ae906f",
   "metadata": {},
   "source": [
    "# Dictionary"
   ]
  },
  {
   "cell_type": "code",
   "execution_count": null,
   "id": "0f942612-547b-4e3e-a0df-5c92abdd3c62",
   "metadata": {},
   "outputs": [],
   "source": []
  },
  {
   "cell_type": "code",
   "execution_count": 1,
   "id": "0a3ff6c8-8b42-4a75-bd1d-507a56cf2b80",
   "metadata": {},
   "outputs": [
    {
     "name": "stdout",
     "output_type": "stream",
     "text": [
      "{'name': 'Alice', 'age': 20, 'grade': 'A'}\n"
     ]
    }
   ],
   "source": [
    "student = {\"name\": \"Alice\", \"age\": 20, \"grade\": \"A\"}\n",
    "print(student)\n"
   ]
  },
  {
   "cell_type": "code",
   "execution_count": null,
   "id": "1f544e45-63ba-43a3-9f5d-4387edbf3c43",
   "metadata": {},
   "outputs": [],
   "source": []
  },
  {
   "cell_type": "code",
   "execution_count": 2,
   "id": "c9bf51dc-8059-477e-9323-a5582cc62e74",
   "metadata": {},
   "outputs": [
    {
     "name": "stdout",
     "output_type": "stream",
     "text": [
      "Alice\n",
      "20\n"
     ]
    }
   ],
   "source": [
    "# Accessing dictionary elements\n",
    "print(student[\"name\"]) \n",
    "print(student[\"age\"])  \n"
   ]
  },
  {
   "cell_type": "code",
   "execution_count": null,
   "id": "e4a1f657-f2ef-4127-ad28-0aab4d2b783c",
   "metadata": {},
   "outputs": [],
   "source": []
  },
  {
   "cell_type": "code",
   "execution_count": 3,
   "id": "b058e374-0c22-4f9c-9146-71ffd81439d2",
   "metadata": {},
   "outputs": [
    {
     "name": "stdout",
     "output_type": "stream",
     "text": [
      "{'name': 'Alice', 'age': 21, 'grade': 'A'}\n"
     ]
    }
   ],
   "source": [
    "# Modifying dictionary\n",
    "student[\"age\"] = 21\n",
    "print(student) \n"
   ]
  },
  {
   "cell_type": "code",
   "execution_count": null,
   "id": "29c99204-fb4f-49bb-aa4e-d8624818e0d0",
   "metadata": {},
   "outputs": [],
   "source": []
  },
  {
   "cell_type": "code",
   "execution_count": 4,
   "id": "ce1ba37c-344f-4ade-8d4a-899148e53603",
   "metadata": {},
   "outputs": [
    {
     "name": "stdout",
     "output_type": "stream",
     "text": [
      "{'name': 'Alice', 'age': 21, 'grade': 'A', 'city': 'New York'}\n"
     ]
    }
   ],
   "source": [
    "# Adding new key-value pairs\n",
    "student[\"city\"] = \"New York\"\n",
    "print(student) \n"
   ]
  },
  {
   "cell_type": "code",
   "execution_count": null,
   "id": "04ff31ba-cb41-4d7f-93ab-88fe16dc5d34",
   "metadata": {},
   "outputs": [],
   "source": []
  },
  {
   "cell_type": "code",
   "execution_count": 5,
   "id": "2e0ec613-080d-4cc7-addd-222f25710179",
   "metadata": {},
   "outputs": [
    {
     "name": "stdout",
     "output_type": "stream",
     "text": [
      "{'name': 'Alice', 'age': 21, 'city': 'New York'}\n"
     ]
    }
   ],
   "source": [
    "# Deleting key-value pairs\n",
    "del student[\"grade\"]\n",
    "print(student)\n"
   ]
  },
  {
   "cell_type": "code",
   "execution_count": null,
   "id": "a8c94a9e-1e9b-4a01-b8d9-1e2245cbf373",
   "metadata": {},
   "outputs": [],
   "source": []
  },
  {
   "cell_type": "code",
   "execution_count": 6,
   "id": "396d68f9-40dd-45dc-8ea4-14ae10572d36",
   "metadata": {},
   "outputs": [
    {
     "name": "stdout",
     "output_type": "stream",
     "text": [
      "dict_keys(['name', 'age', 'city'])\n",
      "dict_values(['Alice', 21, 'New York'])\n",
      "dict_items([('name', 'Alice'), ('age', 21), ('city', 'New York')])\n"
     ]
    }
   ],
   "source": [
    "# Dictionary methods\n",
    "print(student.keys())   \n",
    "print(student.values()) \n",
    "print(student.items())\n"
   ]
  },
  {
   "cell_type": "code",
   "execution_count": null,
   "id": "96cc5b40-3430-4b6c-84c2-672a80c24cdc",
   "metadata": {},
   "outputs": [],
   "source": []
  },
  {
   "cell_type": "code",
   "execution_count": 11,
   "id": "3659c287-fba7-4ead-8c81-e6cb57ec4ec2",
   "metadata": {},
   "outputs": [
    {
     "name": "stdout",
     "output_type": "stream",
     "text": [
      "name : Alice\n",
      "The key is name and value is Alice\n",
      "--------------------------\n",
      "\n",
      "age : 21\n",
      "The key is age and value is 21\n",
      "--------------------------\n",
      "\n",
      "city : New York\n",
      "The key is city and value is New York\n",
      "--------------------------\n",
      "\n"
     ]
    }
   ],
   "source": [
    "# Iterating through a dictionary\n",
    "for key, value in student.items():\n",
    "    print(key, \":\", value)\n",
    "    print(f\"The key is {key} and value is {value}\")\n",
    "    print(\"--------------------------\", end=\"\\n\\n\")\n"
   ]
  },
  {
   "cell_type": "code",
   "execution_count": null,
   "id": "4f8202e5-1d44-4502-9a8c-3a3fa29ce55b",
   "metadata": {},
   "outputs": [],
   "source": []
  }
 ],
 "metadata": {
  "kernelspec": {
   "display_name": "Python 3 (ipykernel)",
   "language": "python",
   "name": "python3"
  },
  "language_info": {
   "codemirror_mode": {
    "name": "ipython",
    "version": 3
   },
   "file_extension": ".py",
   "mimetype": "text/x-python",
   "name": "python",
   "nbconvert_exporter": "python",
   "pygments_lexer": "ipython3",
   "version": "3.10.0"
  }
 },
 "nbformat": 4,
 "nbformat_minor": 5
}
