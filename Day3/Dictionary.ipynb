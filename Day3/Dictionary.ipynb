{
 "cells": [
  {
   "cell_type": "code",
   "execution_count": 1,
   "metadata": {},
   "outputs": [],
   "source": [
    "import json"
   ]
  },
  {
   "cell_type": "code",
   "execution_count": 2,
   "metadata": {},
   "outputs": [],
   "source": [
    "with open(r'545483b2-9d22-4eae-b50a-bc3c888a3548.json','r') as file:\n",
    "    data = json.load(file)"
   ]
  },
  {
   "cell_type": "code",
   "execution_count": 3,
   "metadata": {},
   "outputs": [
    {
     "data": {
      "text/plain": [
       "{'analyzeResult': {'pageResults': [{'page': 1,\n",
       "    'tables': [{'rows': 5,\n",
       "      'columns': 6,\n",
       "      'cells': [{'rowIndex': 0,\n",
       "        'columnIndex': 0,\n",
       "        'text': 'FROM',\n",
       "        'isHeader': True,\n",
       "        'boundingBox': [0.36, 5.23, 0.6, 5.23, 0.6, 5.3, 0.36, 5.3]},\n",
       "       {'rowIndex': 0,\n",
       "        'columnIndex': 1,\n",
       "        'text': 'TO',\n",
       "        'isHeader': True,\n",
       "        'boundingBox': [0.835, 5.23, 1.06, 5.23, 1.06, 5.3, 0.835, 5.3]},\n",
       "       {'rowIndex': 0,\n",
       "        'columnIndex': 2,\n",
       "        'text': 'DUR(hr)',\n",
       "        'isHeader': True,\n",
       "        'boundingBox': [1.375, 5.23, 1.6, 5.23, 1.6, 5.315, 1.375, 5.315]},\n",
       "       {'rowIndex': 0,\n",
       "        'columnIndex': 3,\n",
       "        'text': 'CLASS',\n",
       "        'isHeader': True,\n",
       "        'boundingBox': [2.055, 5.23, 2.17, 5.23, 2.17, 5.3, 2.055, 5.3]},\n",
       "       {'rowIndex': 0,\n",
       "        'columnIndex': 4,\n",
       "        'text': 'RIG',\n",
       "        'isHeader': True,\n",
       "        'boundingBox': [2.53, 5.235, 2.765, 5.235, 2.765, 5.31, 2.53, 5.31]},\n",
       "       {'rowIndex': 0,\n",
       "        'columnIndex': 5,\n",
       "        'text': 'DESCRIPTION',\n",
       "        'isHeader': True,\n",
       "        'boundingBox': [2.95, 5.185, 7.45, 5.185, 7.45, 7.47, 2.95, 7.47]},\n",
       "       {'rowIndex': 1,\n",
       "        'columnIndex': 0,\n",
       "        'text': '00:00',\n",
       "        'boundingBox': [0.36, 5.23, 0.6, 5.23, 0.6, 5.3, 0.36, 5.3]},\n",
       "       {'rowIndex': 1,\n",
       "        'columnIndex': 1,\n",
       "        'text': '11:00',\n",
       "        'boundingBox': [0.835, 5.23, 1.06, 5.23, 1.06, 5.3, 0.835, 5.3]},\n",
       "       {'rowIndex': 1,\n",
       "        'columnIndex': 2,\n",
       "        'text': '11,00',\n",
       "        'boundingBox': [1.375, 5.23, 1.6, 5.23, 1.6, 5.315, 1.375, 5.315]},\n",
       "       {'rowIndex': 1,\n",
       "        'columnIndex': 3,\n",
       "        'text': 'PT',\n",
       "        'boundingBox': [2.055, 5.23, 2.17, 5.23, 2.17, 5.3, 2.055, 5.3]},\n",
       "       {'rowIndex': 1,\n",
       "        'columnIndex': 4,\n",
       "        'text': 'MAIN',\n",
       "        'boundingBox': [2.53, 5.235, 2.765, 5.235, 2.765, 5.31, 2.53, 5.31]},\n",
       "       {'rowIndex': 1,\n",
       "        'columnIndex': 5,\n",
       "        'text': 'MW: Drilling with 8 1/2\" BHA from 5721 m to 5742 m, with 15-30 klbf, 80-120 rpm, 25-33 klbf.ft, 600 gpm / 2550 psi. Notes: - EDS#4 (CSR+UBSR). - Keeping booster with 350 gpm / 550 psi, SBP 300 psi, Choke A 46-48%. - MPD in AP mode @ 5547 m with 9,80 ppg. - Using PWD internal gauge to estimate ECD and to calibrate MPD model. - Backreaming 20 m at 5723 m and 5731 m due to surface torque increasing. - Backreaming 5 m at 5737 m due to low ROP and backreaming 30 m at 5740 due to low ROP and BHA vibration. - Observing stall with 33 klbf.ft at 5739 m. - Observing MRIL tool failure at 5739 m.',\n",
       "        'boundingBox': [2.95, 5.185, 7.45, 5.185, 7.45, 7.47, 2.95, 7.47]},\n",
       "       {'rowIndex': 2,\n",
       "        'columnIndex': 0,\n",
       "        'text': '11:00',\n",
       "        'boundingBox': [0.37, 7.585, 0.595, 7.585, 0.595, 7.655, 0.37, 7.655]},\n",
       "       {'rowIndex': 2,\n",
       "        'columnIndex': 1,\n",
       "        'text': '12:30',\n",
       "        'boundingBox': [0.83, 7.585, 1.06, 7.585, 1.06, 7.655, 0.83, 7.655]},\n",
       "       {'rowIndex': 2,\n",
       "        'columnIndex': 2,\n",
       "        'text': '1,50',\n",
       "        'boundingBox': [1.4, 7.585, 1.575, 7.585, 1.575, 7.67, 1.4, 7.67]},\n",
       "       {'rowIndex': 2,\n",
       "        'columnIndex': 3,\n",
       "        'text': 'NPT',\n",
       "        'boundingBox': [2.02, 7.585, 2.21, 7.585, 2.21, 7.655, 2.02, 7.655]},\n",
       "       {'rowIndex': 2,\n",
       "        'columnIndex': 4,\n",
       "        'text': 'MAIN',\n",
       "        'boundingBox': [2.53, 7.59, 2.765, 7.59, 2.765, 7.665, 2.53, 7.665]},\n",
       "       {'rowIndex': 2,\n",
       "        'columnIndex': 5,\n",
       "        'text': 'MW: Troubleshooting MRIL tool. Obs.: - Performing downlinks and manual mode switch, without sucess.',\n",
       "        'boundingBox': [2.95, 7.54, 6.525, 7.54, 6.525, 8.155, 2.95, 8.155]},\n",
       "       {'rowIndex': 3,\n",
       "        'columnIndex': 0,\n",
       "        'text': '12:30',\n",
       "        'boundingBox': [0.37, 8.275, 0.6, 8.275, 0.6, 8.345, 0.37, 8.345]},\n",
       "       {'rowIndex': 3,\n",
       "        'columnIndex': 1,\n",
       "        'text': '15:00',\n",
       "        'boundingBox': [0.83, 8.275, 1.06, 8.275, 1.06, 8.345, 0.83, 8.345]},\n",
       "       {'rowIndex': 3,\n",
       "        'columnIndex': 2,\n",
       "        'text': '2,50',\n",
       "        'boundingBox': [1.39, 8.275, 1.575, 8.275, 1.575, 8.36, 1.39, 8.36]},\n",
       "       {'rowIndex': 3,\n",
       "        'columnIndex': 3,\n",
       "        'text': 'PT',\n",
       "        'boundingBox': [2.055, 8.275, 2.17, 8.275, 2.17, 8.345, 2.055, 8.345]},\n",
       "       {'rowIndex': 3,\n",
       "        'columnIndex': 4,\n",
       "        'text': 'MAIN',\n",
       "        'boundingBox': [2.53, 8.28, 2.765, 8.28, 2.765, 8.35, 2.53, 8.35]},\n",
       "       {'rowIndex': 3,\n",
       "        'columnIndex': 5,\n",
       "        'text': 'MW: Drilling with 8 1/2\" BHA from 5742 m to 5747 m, with 15-37 klbf, 80 rpm, 25-32 klbf.ft, 600 gpm / 2550 psi. Notes: - Keeping booster with 350 gpm / 550 psi, SBP 300 psi, Choke A 46-48%. - MPD in AP mode @ 5547 m with 9,80 ppg. - Observing failure to receive M/LWD signal.',\n",
       "        'boundingBox': [2.95, 8.23, 7.455, 8.23, 7.455, 9.345, 2.95, 9.345]},\n",
       "       {'rowIndex': 4,\n",
       "        'columnIndex': 0,\n",
       "        'text': '15:00',\n",
       "        'boundingBox': [0.37, 9.46, 0.6, 9.46, 0.6, 9.535, 0.37, 9.535]},\n",
       "       {'rowIndex': 4,\n",
       "        'columnIndex': 1,\n",
       "        'text': '16:00',\n",
       "        'boundingBox': [0.83, 9.46, 1.06, 9.46, 1.06, 9.535, 0.83, 9.535]},\n",
       "       {'rowIndex': 4,\n",
       "        'columnIndex': 2,\n",
       "        'text': '1,00',\n",
       "        'boundingBox': [1.4, 9.46, 1.575, 9.46, 1.575, 9.545, 1.4, 9.545]},\n",
       "       {'rowIndex': 4,\n",
       "        'columnIndex': 3,\n",
       "        'text': 'NPT',\n",
       "        'boundingBox': [2.02, 9.46, 2.21, 9.46, 2.21, 9.535, 2.02, 9.535]},\n",
       "       {'rowIndex': 4,\n",
       "        'columnIndex': 4,\n",
       "        'text': 'MAIN',\n",
       "        'boundingBox': [2.53, 9.47, 2.765, 9.47, 2.765, 9.54, 2.53, 9.54]},\n",
       "       {'rowIndex': 4,\n",
       "        'columnIndex': 5,\n",
       "        'text': 'MW: Troubleshooting M/LWD tools. Obs.: - Performing downlinks and manual mode switch, with sucess.',\n",
       "        'boundingBox': [2.95, 9.415, 6.35, 9.415, 6.35, 10.03, 2.95, 10.03]}],\n",
       "      'boundingBox': [],\n",
       "      'tableName': 'Operations Summary',\n",
       "      'columnCount': 6}]}]}}"
      ]
     },
     "execution_count": 3,
     "metadata": {},
     "output_type": "execute_result"
    }
   ],
   "source": [
    "data"
   ]
  },
  {
   "cell_type": "code",
   "execution_count": 17,
   "metadata": {},
   "outputs": [],
   "source": [
    "newData = data['analyzeResult']['pageResults'][0]['tables'][0]"
   ]
  },
  {
   "cell_type": "code",
   "execution_count": 39,
   "metadata": {},
   "outputs": [],
   "source": [
    "dictNewData=newData['cells']"
   ]
  },
  {
   "cell_type": "code",
   "execution_count": 57,
   "metadata": {},
   "outputs": [
    {
     "data": {
      "text/plain": [
       "0"
      ]
     },
     "execution_count": 57,
     "metadata": {},
     "output_type": "execute_result"
    }
   ],
   "source": [
    "dictNewData[0]['rowIndex']"
   ]
  },
  {
   "cell_type": "code",
   "execution_count": 45,
   "metadata": {},
   "outputs": [],
   "source": [
    "for item in dictNewData:\n",
    "    print(item['text'])\n",
    "  \n"
   ]
  },
  {
   "cell_type": "code",
   "execution_count": 59,
   "metadata": {},
   "outputs": [
    {
     "data": {
      "text/plain": [
       "[{'rowIndex': 0,\n",
       "  'columnIndex': 0,\n",
       "  'text': 'FROM',\n",
       "  'isHeader': True,\n",
       "  'boundingBox': [0.36, 5.23, 0.6, 5.23, 0.6, 5.3, 0.36, 5.3]},\n",
       " {'rowIndex': 0,\n",
       "  'columnIndex': 1,\n",
       "  'text': 'TO',\n",
       "  'isHeader': True,\n",
       "  'boundingBox': [0.835, 5.23, 1.06, 5.23, 1.06, 5.3, 0.835, 5.3]},\n",
       " {'rowIndex': 0,\n",
       "  'columnIndex': 2,\n",
       "  'text': 'DUR(hr)',\n",
       "  'isHeader': True,\n",
       "  'boundingBox': [1.375, 5.23, 1.6, 5.23, 1.6, 5.315, 1.375, 5.315]},\n",
       " {'rowIndex': 0,\n",
       "  'columnIndex': 3,\n",
       "  'text': 'CLASS',\n",
       "  'isHeader': True,\n",
       "  'boundingBox': [2.055, 5.23, 2.17, 5.23, 2.17, 5.3, 2.055, 5.3]},\n",
       " {'rowIndex': 0,\n",
       "  'columnIndex': 4,\n",
       "  'text': 'RIG',\n",
       "  'isHeader': True,\n",
       "  'boundingBox': [2.53, 5.235, 2.765, 5.235, 2.765, 5.31, 2.53, 5.31]},\n",
       " {'rowIndex': 0,\n",
       "  'columnIndex': 5,\n",
       "  'text': 'DESCRIPTION',\n",
       "  'isHeader': True,\n",
       "  'boundingBox': [2.95, 5.185, 7.45, 5.185, 7.45, 7.47, 2.95, 7.47]},\n",
       " {'rowIndex': 1,\n",
       "  'columnIndex': 0,\n",
       "  'text': '00:00',\n",
       "  'boundingBox': [0.36, 5.23, 0.6, 5.23, 0.6, 5.3, 0.36, 5.3]},\n",
       " {'rowIndex': 1,\n",
       "  'columnIndex': 1,\n",
       "  'text': '11:00',\n",
       "  'boundingBox': [0.835, 5.23, 1.06, 5.23, 1.06, 5.3, 0.835, 5.3]},\n",
       " {'rowIndex': 1,\n",
       "  'columnIndex': 2,\n",
       "  'text': '11,00',\n",
       "  'boundingBox': [1.375, 5.23, 1.6, 5.23, 1.6, 5.315, 1.375, 5.315]},\n",
       " {'rowIndex': 1,\n",
       "  'columnIndex': 3,\n",
       "  'text': 'PT',\n",
       "  'boundingBox': [2.055, 5.23, 2.17, 5.23, 2.17, 5.3, 2.055, 5.3]},\n",
       " {'rowIndex': 1,\n",
       "  'columnIndex': 4,\n",
       "  'text': 'MAIN',\n",
       "  'boundingBox': [2.53, 5.235, 2.765, 5.235, 2.765, 5.31, 2.53, 5.31]},\n",
       " {'rowIndex': 1,\n",
       "  'columnIndex': 5,\n",
       "  'text': 'MW: Drilling with 8 1/2\" BHA from 5721 m to 5742 m, with 15-30 klbf, 80-120 rpm, 25-33 klbf.ft, 600 gpm / 2550 psi. Notes: - EDS#4 (CSR+UBSR). - Keeping booster with 350 gpm / 550 psi, SBP 300 psi, Choke A 46-48%. - MPD in AP mode @ 5547 m with 9,80 ppg. - Using PWD internal gauge to estimate ECD and to calibrate MPD model. - Backreaming 20 m at 5723 m and 5731 m due to surface torque increasing. - Backreaming 5 m at 5737 m due to low ROP and backreaming 30 m at 5740 due to low ROP and BHA vibration. - Observing stall with 33 klbf.ft at 5739 m. - Observing MRIL tool failure at 5739 m.',\n",
       "  'boundingBox': [2.95, 5.185, 7.45, 5.185, 7.45, 7.47, 2.95, 7.47]},\n",
       " {'rowIndex': 2,\n",
       "  'columnIndex': 0,\n",
       "  'text': '11:00',\n",
       "  'boundingBox': [0.37, 7.585, 0.595, 7.585, 0.595, 7.655, 0.37, 7.655]},\n",
       " {'rowIndex': 2,\n",
       "  'columnIndex': 1,\n",
       "  'text': '12:30',\n",
       "  'boundingBox': [0.83, 7.585, 1.06, 7.585, 1.06, 7.655, 0.83, 7.655]},\n",
       " {'rowIndex': 2,\n",
       "  'columnIndex': 2,\n",
       "  'text': '1,50',\n",
       "  'boundingBox': [1.4, 7.585, 1.575, 7.585, 1.575, 7.67, 1.4, 7.67]},\n",
       " {'rowIndex': 2,\n",
       "  'columnIndex': 3,\n",
       "  'text': 'NPT',\n",
       "  'boundingBox': [2.02, 7.585, 2.21, 7.585, 2.21, 7.655, 2.02, 7.655]},\n",
       " {'rowIndex': 2,\n",
       "  'columnIndex': 4,\n",
       "  'text': 'MAIN',\n",
       "  'boundingBox': [2.53, 7.59, 2.765, 7.59, 2.765, 7.665, 2.53, 7.665]},\n",
       " {'rowIndex': 2,\n",
       "  'columnIndex': 5,\n",
       "  'text': 'MW: Troubleshooting MRIL tool. Obs.: - Performing downlinks and manual mode switch, without sucess.',\n",
       "  'boundingBox': [2.95, 7.54, 6.525, 7.54, 6.525, 8.155, 2.95, 8.155]},\n",
       " {'rowIndex': 3,\n",
       "  'columnIndex': 0,\n",
       "  'text': '12:30',\n",
       "  'boundingBox': [0.37, 8.275, 0.6, 8.275, 0.6, 8.345, 0.37, 8.345]},\n",
       " {'rowIndex': 3,\n",
       "  'columnIndex': 1,\n",
       "  'text': '15:00',\n",
       "  'boundingBox': [0.83, 8.275, 1.06, 8.275, 1.06, 8.345, 0.83, 8.345]},\n",
       " {'rowIndex': 3,\n",
       "  'columnIndex': 2,\n",
       "  'text': '2,50',\n",
       "  'boundingBox': [1.39, 8.275, 1.575, 8.275, 1.575, 8.36, 1.39, 8.36]},\n",
       " {'rowIndex': 3,\n",
       "  'columnIndex': 3,\n",
       "  'text': 'PT',\n",
       "  'boundingBox': [2.055, 8.275, 2.17, 8.275, 2.17, 8.345, 2.055, 8.345]},\n",
       " {'rowIndex': 3,\n",
       "  'columnIndex': 4,\n",
       "  'text': 'MAIN',\n",
       "  'boundingBox': [2.53, 8.28, 2.765, 8.28, 2.765, 8.35, 2.53, 8.35]},\n",
       " {'rowIndex': 3,\n",
       "  'columnIndex': 5,\n",
       "  'text': 'MW: Drilling with 8 1/2\" BHA from 5742 m to 5747 m, with 15-37 klbf, 80 rpm, 25-32 klbf.ft, 600 gpm / 2550 psi. Notes: - Keeping booster with 350 gpm / 550 psi, SBP 300 psi, Choke A 46-48%. - MPD in AP mode @ 5547 m with 9,80 ppg. - Observing failure to receive M/LWD signal.',\n",
       "  'boundingBox': [2.95, 8.23, 7.455, 8.23, 7.455, 9.345, 2.95, 9.345]},\n",
       " {'rowIndex': 4,\n",
       "  'columnIndex': 0,\n",
       "  'text': '15:00',\n",
       "  'boundingBox': [0.37, 9.46, 0.6, 9.46, 0.6, 9.535, 0.37, 9.535]},\n",
       " {'rowIndex': 4,\n",
       "  'columnIndex': 1,\n",
       "  'text': '16:00',\n",
       "  'boundingBox': [0.83, 9.46, 1.06, 9.46, 1.06, 9.535, 0.83, 9.535]},\n",
       " {'rowIndex': 4,\n",
       "  'columnIndex': 2,\n",
       "  'text': '1,00',\n",
       "  'boundingBox': [1.4, 9.46, 1.575, 9.46, 1.575, 9.545, 1.4, 9.545]},\n",
       " {'rowIndex': 4,\n",
       "  'columnIndex': 3,\n",
       "  'text': 'NPT',\n",
       "  'boundingBox': [2.02, 9.46, 2.21, 9.46, 2.21, 9.535, 2.02, 9.535]},\n",
       " {'rowIndex': 4,\n",
       "  'columnIndex': 4,\n",
       "  'text': 'MAIN',\n",
       "  'boundingBox': [2.53, 9.47, 2.765, 9.47, 2.765, 9.54, 2.53, 9.54]},\n",
       " {'rowIndex': 4,\n",
       "  'columnIndex': 5,\n",
       "  'text': 'MW: Troubleshooting M/LWD tools. Obs.: - Performing downlinks and manual mode switch, with sucess.',\n",
       "  'boundingBox': [2.95, 9.415, 6.35, 9.415, 6.35, 10.03, 2.95, 10.03]}]"
      ]
     },
     "execution_count": 59,
     "metadata": {},
     "output_type": "execute_result"
    }
   ],
   "source": [
    "dictNewData"
   ]
  },
  {
   "cell_type": "markdown",
   "metadata": {},
   "source": [
    "Q2"
   ]
  },
  {
   "cell_type": "code",
   "execution_count": 64,
   "metadata": {},
   "outputs": [],
   "source": [
    "emptyList = []\n",
    "rowIndex = [0,1,2,3,4]\n",
    "for i in rowIndex:\n",
    "    newEmptyList = []\n",
    "    for values in dictNewData:\n",
    "        if values['rowIndex']== i:\n",
    "            newEmptyList.append(values['text'])\n",
    "    emptyList.append(newEmptyList)"
   ]
  },
  {
   "cell_type": "code",
   "execution_count": 65,
   "metadata": {},
   "outputs": [
    {
     "data": {
      "text/plain": [
       "[['FROM', 'TO', 'DUR(hr)', 'CLASS', 'RIG', 'DESCRIPTION'],\n",
       " ['00:00',\n",
       "  '11:00',\n",
       "  '11,00',\n",
       "  'PT',\n",
       "  'MAIN',\n",
       "  'MW: Drilling with 8 1/2\" BHA from 5721 m to 5742 m, with 15-30 klbf, 80-120 rpm, 25-33 klbf.ft, 600 gpm / 2550 psi. Notes: - EDS#4 (CSR+UBSR). - Keeping booster with 350 gpm / 550 psi, SBP 300 psi, Choke A 46-48%. - MPD in AP mode @ 5547 m with 9,80 ppg. - Using PWD internal gauge to estimate ECD and to calibrate MPD model. - Backreaming 20 m at 5723 m and 5731 m due to surface torque increasing. - Backreaming 5 m at 5737 m due to low ROP and backreaming 30 m at 5740 due to low ROP and BHA vibration. - Observing stall with 33 klbf.ft at 5739 m. - Observing MRIL tool failure at 5739 m.'],\n",
       " ['11:00',\n",
       "  '12:30',\n",
       "  '1,50',\n",
       "  'NPT',\n",
       "  'MAIN',\n",
       "  'MW: Troubleshooting MRIL tool. Obs.: - Performing downlinks and manual mode switch, without sucess.'],\n",
       " ['12:30',\n",
       "  '15:00',\n",
       "  '2,50',\n",
       "  'PT',\n",
       "  'MAIN',\n",
       "  'MW: Drilling with 8 1/2\" BHA from 5742 m to 5747 m, with 15-37 klbf, 80 rpm, 25-32 klbf.ft, 600 gpm / 2550 psi. Notes: - Keeping booster with 350 gpm / 550 psi, SBP 300 psi, Choke A 46-48%. - MPD in AP mode @ 5547 m with 9,80 ppg. - Observing failure to receive M/LWD signal.'],\n",
       " ['15:00',\n",
       "  '16:00',\n",
       "  '1,00',\n",
       "  'NPT',\n",
       "  'MAIN',\n",
       "  'MW: Troubleshooting M/LWD tools. Obs.: - Performing downlinks and manual mode switch, with sucess.']]"
      ]
     },
     "execution_count": 65,
     "metadata": {},
     "output_type": "execute_result"
    }
   ],
   "source": [
    "emptyList"
   ]
  },
  {
   "cell_type": "code",
   "execution_count": 68,
   "metadata": {},
   "outputs": [
    {
     "data": {
      "text/plain": [
       "5"
      ]
     },
     "execution_count": 68,
     "metadata": {},
     "output_type": "execute_result"
    }
   ],
   "source": [
    "len(emptyList)"
   ]
  },
  {
   "cell_type": "code",
   "execution_count": 71,
   "metadata": {},
   "outputs": [
    {
     "data": {
      "text/plain": [
       "['15:00',\n",
       " '16:00',\n",
       " '1,00',\n",
       " 'NPT',\n",
       " 'MAIN',\n",
       " 'MW: Troubleshooting M/LWD tools. Obs.: - Performing downlinks and manual mode switch, with sucess.']"
      ]
     },
     "execution_count": 71,
     "metadata": {},
     "output_type": "execute_result"
    }
   ],
   "source": [
    "newEmptyList"
   ]
  },
  {
   "cell_type": "code",
   "execution_count": 70,
   "metadata": {},
   "outputs": [
    {
     "data": {
      "text/plain": [
       "6"
      ]
     },
     "execution_count": 70,
     "metadata": {},
     "output_type": "execute_result"
    }
   ],
   "source": [
    "len(newEmptyList)"
   ]
  },
  {
   "cell_type": "code",
   "execution_count": null,
   "metadata": {},
   "outputs": [],
   "source": []
  }
 ],
 "metadata": {
  "kernelspec": {
   "display_name": "Python 3",
   "language": "python",
   "name": "python3"
  },
  "language_info": {
   "codemirror_mode": {
    "name": "ipython",
    "version": 3
   },
   "file_extension": ".py",
   "mimetype": "text/x-python",
   "name": "python",
   "nbconvert_exporter": "python",
   "pygments_lexer": "ipython3",
   "version": "3.12.2"
  }
 },
 "nbformat": 4,
 "nbformat_minor": 2
}
