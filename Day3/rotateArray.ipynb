{
 "cells": [
  {
   "cell_type": "code",
   "execution_count": 20,
   "metadata": {},
   "outputs": [
    {
     "name": "stdout",
     "output_type": "stream",
     "text": [
      "7\n",
      "[2, 2, 2, 1, 2, 3, 1, 2, 3, 1, 4, 5, 6, 7]\n"
     ]
    }
   ],
   "source": [
    "nums=[1,2,3,4,5,6,7]\n",
    "k=3\n",
    "emptylist = []\n",
    "length = len(nums)\n",
    "print(length)\n",
    "for i in range(0,7,1):\n",
    "    if(i+k>=length):\n",
    "        # nums[(i+k+1)-length]=nums[(i+k)-length]\n",
    "        # nums[(i+k)-length]=nums[i]\n",
    "        nums.insert((i+k)-length,nums[i])\n",
    "    else:\n",
    "        nums.insert(i+k,nums[i])\n",
    "        nums[i+k]=nums[i]\n",
    "        \n",
    "print(nums)\n"
   ]
  },
  {
   "cell_type": "code",
   "execution_count": 21,
   "metadata": {},
   "outputs": [
    {
     "data": {
      "text/plain": [
       "{1, 2, 3, 4, 5, 6, 7}"
      ]
     },
     "execution_count": 21,
     "metadata": {},
     "output_type": "execute_result"
    }
   ],
   "source": [
    "set(nums)"
   ]
  }
 ],
 "metadata": {
  "kernelspec": {
   "display_name": "Python 3",
   "language": "python",
   "name": "python3"
  },
  "language_info": {
   "codemirror_mode": {
    "name": "ipython",
    "version": 3
   },
   "file_extension": ".py",
   "mimetype": "text/x-python",
   "name": "python",
   "nbconvert_exporter": "python",
   "pygments_lexer": "ipython3",
   "version": "3.12.2"
  }
 },
 "nbformat": 4,
 "nbformat_minor": 2
}
