{
 "cells": [
  {
   "cell_type": "markdown",
   "id": "40f071b5-916b-4d0f-b809-1aa6c38e2a49",
   "metadata": {},
   "source": [
    "# Data Structues in Python"
   ]
  },
  {
   "cell_type": "markdown",
   "id": "9f1513e1-5974-4150-95a9-01688667c860",
   "metadata": {},
   "source": [
    "# Lists"
   ]
  },
  {
   "cell_type": "code",
   "execution_count": 2,
   "id": "d91790fd-2be2-4abd-a7bc-c918be7e502e",
   "metadata": {},
   "outputs": [],
   "source": [
    "my_list = [1, 2, 3, 4, 5]  # List of integers\n",
    "names = [\"Alice\", \"Bob\", \"Charlie\"]  # List of strings\n",
    "mixed_list = [1, \"apple\", True, [2, 3, 4]]  # List with mixed data types\n",
    "empty_list = []  # Empty list\n"
   ]
  },
  {
   "cell_type": "code",
   "execution_count": null,
   "id": "963eb513-556d-4814-ab70-62aacbf19622",
   "metadata": {},
   "outputs": [],
   "source": []
  },
  {
   "cell_type": "code",
   "execution_count": 3,
   "id": "d22e62fd-868f-4124-962c-01f443c98fa8",
   "metadata": {},
   "outputs": [
    {
     "name": "stdout",
     "output_type": "stream",
     "text": [
      "10\n",
      "30\n",
      "[10, 25, 30, 40, 50]\n",
      "[10, 25, 30, 40, 50, 60]\n",
      "[10, 25, 40, 50, 60]\n"
     ]
    }
   ],
   "source": [
    "my_list = [10, 20, 30, 40, 50]\n",
    "\n",
    "print(my_list[0]) \n",
    "print(my_list[2]) \n",
    "\n",
    "\n",
    "my_list[1] = 25\n",
    "print(my_list)  \n",
    "\n",
    "\n",
    "my_list.append(60)\n",
    "print(my_list) \n",
    "\n"
   ]
  },
  {
   "cell_type": "code",
   "execution_count": null,
   "id": "b7095d91-da36-412f-81ae-d85e68c0add6",
   "metadata": {},
   "outputs": [],
   "source": []
  },
  {
   "cell_type": "markdown",
   "id": "bf806bcd-4a09-4cf6-a654-7c219412ea39",
   "metadata": {},
   "source": [
    "### Insert operation"
   ]
  },
  {
   "cell_type": "code",
   "execution_count": 4,
   "id": "e32ca385-2362-4929-9186-9c8a1ef483a3",
   "metadata": {},
   "outputs": [
    {
     "name": "stdout",
     "output_type": "stream",
     "text": [
      "[1, 5, 2, 3]\n"
     ]
    }
   ],
   "source": [
    "my_list = [1, 2, 3]\n",
    "my_list.insert(1, 5)\n",
    "print(my_list)  "
   ]
  },
  {
   "cell_type": "code",
   "execution_count": null,
   "id": "f65cea9c-2559-4d60-b866-889b490a9947",
   "metadata": {},
   "outputs": [],
   "source": []
  },
  {
   "cell_type": "markdown",
   "id": "afcb9d2b-8a95-4f61-849f-d2e388065b33",
   "metadata": {},
   "source": [
    "### extend operation"
   ]
  },
  {
   "cell_type": "code",
   "execution_count": 5,
   "id": "6bca9629-4331-4098-9d74-1b38e5875905",
   "metadata": {},
   "outputs": [
    {
     "name": "stdout",
     "output_type": "stream",
     "text": [
      "[1, 2, 3, 4, 5, 6]\n"
     ]
    }
   ],
   "source": [
    "my_list = [1, 2, 3]\n",
    "my_list.extend([4, 5, 6])\n",
    "print(my_list)\n"
   ]
  },
  {
   "cell_type": "code",
   "execution_count": null,
   "id": "40f00cdb-f202-455b-b029-f3488f0c7327",
   "metadata": {},
   "outputs": [],
   "source": []
  },
  {
   "cell_type": "markdown",
   "id": "2aca2e22-a9db-4699-904b-2481b4c3599d",
   "metadata": {},
   "source": [
    "### remove operation"
   ]
  },
  {
   "cell_type": "code",
   "execution_count": 10,
   "id": "9b7713b5-07d9-4f00-9e0d-a1f01b737cfd",
   "metadata": {},
   "outputs": [
    {
     "name": "stdout",
     "output_type": "stream",
     "text": [
      "[1, 3, 2]\n"
     ]
    }
   ],
   "source": [
    "my_list = [1, 2, 3, 2]\n",
    "my_list.remove(2)\n",
    "print(my_list)\n"
   ]
  },
  {
   "cell_type": "code",
   "execution_count": null,
   "id": "6eae3650-0bfa-40f1-af01-978b7dea354d",
   "metadata": {},
   "outputs": [],
   "source": []
  },
  {
   "cell_type": "markdown",
   "id": "1c0ad045-ef9b-4d41-931b-4e5337d60ceb",
   "metadata": {},
   "source": [
    "### count operation"
   ]
  },
  {
   "cell_type": "code",
   "execution_count": 11,
   "id": "86045936-1402-456e-9a35-7468a9efacb6",
   "metadata": {},
   "outputs": [
    {
     "name": "stdout",
     "output_type": "stream",
     "text": [
      "3\n"
     ]
    }
   ],
   "source": [
    "my_list = [10, 20, 30, 20, 40, 20]\n",
    "count = my_list.count(20)\n",
    "print(count)\n"
   ]
  },
  {
   "cell_type": "code",
   "execution_count": null,
   "id": "c64a6fa9-e1e1-4719-81c7-aa3eafd14536",
   "metadata": {},
   "outputs": [],
   "source": []
  },
  {
   "cell_type": "markdown",
   "id": "7d438506-3d5d-49d8-be6e-50fac51c2d24",
   "metadata": {},
   "source": [
    "### sort"
   ]
  },
  {
   "cell_type": "code",
   "execution_count": 12,
   "id": "8ed5af60-ee64-4871-a56a-f1a64cffc949",
   "metadata": {},
   "outputs": [
    {
     "name": "stdout",
     "output_type": "stream",
     "text": [
      "[1, 2, 3, 5, 8]\n"
     ]
    }
   ],
   "source": [
    "my_list = [5, 3, 8, 2, 1]\n",
    "my_list.sort()\n",
    "print(my_list)\n"
   ]
  },
  {
   "cell_type": "code",
   "execution_count": null,
   "id": "560bd207-f32c-4efa-bc78-c3260cdb2d64",
   "metadata": {},
   "outputs": [],
   "source": []
  },
  {
   "cell_type": "markdown",
   "id": "b3596e19-36dd-46a2-90b5-2e090b115fba",
   "metadata": {},
   "source": [
    "### reverse"
   ]
  },
  {
   "cell_type": "code",
   "execution_count": 13,
   "id": "d545d01c-5a46-42d0-adc7-a47956b31e43",
   "metadata": {},
   "outputs": [
    {
     "name": "stdout",
     "output_type": "stream",
     "text": [
      "[5, 4, 3, 2, 1]\n"
     ]
    }
   ],
   "source": [
    "my_list = [1, 2, 3, 4, 5]\n",
    "my_list.reverse()\n",
    "print(my_list)\n"
   ]
  },
  {
   "cell_type": "code",
   "execution_count": null,
   "id": "30fbafa9-0896-4b80-9bb6-66d803c9489d",
   "metadata": {},
   "outputs": [],
   "source": []
  }
 ],
 "metadata": {
  "kernelspec": {
   "display_name": "Python 3 (ipykernel)",
   "language": "python",
   "name": "python3"
  },
  "language_info": {
   "codemirror_mode": {
    "name": "ipython",
    "version": 3
   },
   "file_extension": ".py",
   "mimetype": "text/x-python",
   "name": "python",
   "nbconvert_exporter": "python",
   "pygments_lexer": "ipython3",
   "version": "3.10.0"
  }
 },
 "nbformat": 4,
 "nbformat_minor": 5
}
