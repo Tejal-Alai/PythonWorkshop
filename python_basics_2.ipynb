{
 "cells": [
  {
   "cell_type": "markdown",
   "id": "0155e615-8bf0-449a-b396-387f1e9cc707",
   "metadata": {},
   "source": [
    "## Operators"
   ]
  },
  {
   "cell_type": "code",
   "execution_count": null,
   "id": "036ac62b-a1e2-4f4b-92af-5ddbef9aa321",
   "metadata": {},
   "outputs": [],
   "source": []
  },
  {
   "cell_type": "code",
   "execution_count": 1,
   "id": "d175c880-08ac-43d5-a8ae-6743c904209d",
   "metadata": {},
   "outputs": [
    {
     "name": "stdout",
     "output_type": "stream",
     "text": [
      "Addition: 16\n",
      "Subtraction: 6\n",
      "Multiplication: 55\n",
      "Division: 2.2\n",
      "Floor Division: 2\n",
      "Modulus: 1\n",
      "Exponentiation: 161051\n"
     ]
    }
   ],
   "source": [
    "# Arithmetic Operators\n",
    "a = 11\n",
    "b = 5\n",
    "result_addition = a + b\n",
    "print(\"Addition:\", result_addition)  \n",
    "\n",
    "# Subtraction\n",
    "result_subtraction = a - b\n",
    "print(\"Subtraction:\", result_subtraction)  \n",
    "\n",
    "# Multiplication\n",
    "result_multiplication = a * b\n",
    "print(\"Multiplication:\", result_multiplication) \n",
    "\n",
    "# Division\n",
    "result_division = a / b\n",
    "print(\"Division:\", result_division)  \n",
    "\n",
    "# Floor Division\n",
    "result_floor_division = a // b\n",
    "print(\"Floor Division:\", result_floor_division) \n",
    "\n",
    "# Modulus (Remainder)\n",
    "result_modulus = a % b\n",
    "print(\"Modulus:\", result_modulus) \n",
    "\n",
    "# Exponentiation\n",
    "result_exponentiation = a ** b\n",
    "print(\"Exponentiation:\", result_exponentiation) \n"
   ]
  },
  {
   "cell_type": "code",
   "execution_count": null,
   "id": "2630b470-1b8c-4893-af91-10bfc5acc7fd",
   "metadata": {},
   "outputs": [],
   "source": []
  },
  {
   "cell_type": "code",
   "execution_count": 2,
   "id": "21f00443-defa-44b5-a70c-755f7970ace2",
   "metadata": {},
   "outputs": [],
   "source": [
    "#Assignment Operators"
   ]
  },
  {
   "cell_type": "code",
   "execution_count": 3,
   "id": "993ac82b-a9ce-4579-a5e1-ae73dcc485ed",
   "metadata": {},
   "outputs": [
    {
     "name": "stdout",
     "output_type": "stream",
     "text": [
      "x: 10\n",
      "Updated x: 15\n"
     ]
    }
   ],
   "source": [
    "x = 10  \n",
    "print(\"x:\", x)  \n",
    "\n",
    "x += 5 \n",
    "print(\"Updated x:\", x)  \n"
   ]
  },
  {
   "cell_type": "code",
   "execution_count": null,
   "id": "927286e2-c1fb-457f-866d-6840558d3b52",
   "metadata": {},
   "outputs": [],
   "source": []
  },
  {
   "cell_type": "code",
   "execution_count": 4,
   "id": "62f685fd-742f-4e2f-a87b-6cfffc8abb04",
   "metadata": {},
   "outputs": [
    {
     "name": "stdout",
     "output_type": "stream",
     "text": [
      "Greater Than: True\n",
      "Less Than: False\n",
      "Equal To: False\n",
      "Not Equal To: True\n",
      "Greater Than or Equal To: True\n",
      "Less Than or Equal To: False\n"
     ]
    }
   ],
   "source": [
    "# Greater Than\n",
    "result_greater_than = a > b\n",
    "print(\"Greater Than:\", result_greater_than) \n",
    "\n",
    "# Less Than\n",
    "result_less_than = a < b\n",
    "print(\"Less Than:\", result_less_than)  \n",
    "\n",
    "# Equal To\n",
    "result_equal_to = a == b\n",
    "print(\"Equal To:\", result_equal_to) \n",
    "\n",
    "# Not Equal To\n",
    "result_not_equal_to = a != b\n",
    "print(\"Not Equal To:\", result_not_equal_to) \n",
    "\n",
    "# Greater Than or Equal To\n",
    "result_greater_than_or_equal_to = a >= b\n",
    "print(\"Greater Than or Equal To:\", result_greater_than_or_equal_to)  \n",
    "\n",
    "# Less Than or Equal To\n",
    "result_less_than_or_equal_to = a <= b\n",
    "print(\"Less Than or Equal To:\", result_less_than_or_equal_to)\n"
   ]
  },
  {
   "cell_type": "code",
   "execution_count": null,
   "id": "6ba7b30a-53ac-4503-8338-3c6f97a888a3",
   "metadata": {},
   "outputs": [],
   "source": []
  },
  {
   "cell_type": "code",
   "execution_count": null,
   "id": "fa5ea33e-fad2-4065-bcd7-93cfac0496dc",
   "metadata": {},
   "outputs": [],
   "source": []
  },
  {
   "cell_type": "code",
   "execution_count": 5,
   "id": "fe725b54-7a7a-41e0-95ee-da4bf478475c",
   "metadata": {},
   "outputs": [
    {
     "name": "stdout",
     "output_type": "stream",
     "text": [
      "Result of 'and' operator: True\n",
      "Result of 'or' operator: True\n",
      "Result of 'not' operator: False\n"
     ]
    }
   ],
   "source": [
    "# Example of 'and' logical operator\n",
    "x = 5\n",
    "y = 10\n",
    "z = 15\n",
    "result_and = (x < y) and (y < z)\n",
    "print(\"Result of 'and' operator:\", result_and) \n",
    "\n",
    "# Example of 'or' logical operator\n",
    "result_or = (x > y) or (y < z)\n",
    "print(\"Result of 'or' operator:\", result_or)\n",
    "\n",
    "# Example of 'not' logical operator\n",
    "result_not = not (x < y)\n",
    "print(\"Result of 'not' operator:\", result_not)\n"
   ]
  },
  {
   "cell_type": "code",
   "execution_count": null,
   "id": "461ffd41-7b07-46c2-b8e0-ae654bc5363a",
   "metadata": {},
   "outputs": [],
   "source": []
  }
 ],
 "metadata": {
  "kernelspec": {
   "display_name": "Python 3 (ipykernel)",
   "language": "python",
   "name": "python3"
  },
  "language_info": {
   "codemirror_mode": {
    "name": "ipython",
    "version": 3
   },
   "file_extension": ".py",
   "mimetype": "text/x-python",
   "name": "python",
   "nbconvert_exporter": "python",
   "pygments_lexer": "ipython3",
   "version": "3.12.2"
  }
 },
 "nbformat": 4,
 "nbformat_minor": 5
}
