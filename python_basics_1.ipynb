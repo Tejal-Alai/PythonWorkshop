{
 "cells": [
  {
   "cell_type": "markdown",
   "id": "f003dbf8-15d7-4489-ab6e-583aa7c8fb78",
   "metadata": {},
   "source": [
    "## Datatypes"
   ]
  },
  {
   "cell_type": "code",
   "execution_count": 1,
   "id": "7689d969-32e6-46c4-a421-e1cfd1e1eac7",
   "metadata": {},
   "outputs": [
    {
     "name": "stdout",
     "output_type": "stream",
     "text": [
      "Type of a:  <class 'int'>\n",
      "\n",
      "Type of b:  <class 'float'>\n",
      "\n",
      "Type of c:  <class 'str'>\n",
      "\n",
      "Type of d:  <class 'bool'>\n",
      "\n",
      "Type of e:  <class 'NoneType'>\n"
     ]
    }
   ],
   "source": [
    "a = 5\n",
    "print(\"Type of a: \", type(a)) \n",
    "\n",
    "b = 5.0\n",
    "print(\"\\nType of b: \", type(b)) \n",
    "\n",
    "c = 'abc'\n",
    "print(\"\\nType of c: \", type(c)) \n",
    "\n",
    "d = False\n",
    "print(\"\\nType of d: \", type(d)) \n",
    "\n",
    "e = None\n",
    "print(\"\\nType of e: \", type(e)) \n"
   ]
  },
  {
   "cell_type": "code",
   "execution_count": 2,
   "id": "be810031-3604-45d6-a044-8d9e2791de0b",
   "metadata": {},
   "outputs": [
    {
     "ename": "SyntaxError",
     "evalue": "unexpected character after line continuation character (2632850268.py, line 1)",
     "output_type": "error",
     "traceback": [
      "\u001b[1;36m  Cell \u001b[1;32mIn[2], line 1\u001b[1;36m\u001b[0m\n\u001b[1;33m    c:\\msys64\\ucrt64\\bin\\python.exe -m pip install ipykernel -U --user --force-reinstall\u001b[0m\n\u001b[1;37m       ^\u001b[0m\n\u001b[1;31mSyntaxError\u001b[0m\u001b[1;31m:\u001b[0m unexpected character after line continuation character\n"
     ]
    }
   ],
   "source": [
    "c:\\msys64\\ucrt64\\bin\\python.exe -m pip install ipykernel -U --user --force-reinstall"
   ]
  },
  {
   "cell_type": "code",
   "execution_count": null,
   "id": "2d688578-7dce-4607-9eb1-64968a8621aa",
   "metadata": {},
   "outputs": [
    {
     "ename": "",
     "evalue": "",
     "output_type": "error",
     "traceback": [
      "\u001b[1;31mRunning cells with 'c:\\msys64\\ucrt64\\bin\\python.exe' requires the ipykernel package.\n",
      "\u001b[1;31mRun the following command to install 'ipykernel' into the Python environment. \n",
      "\u001b[1;31mCommand: 'c:/msys64/ucrt64/bin/python.exe -m pip install ipykernel -U --user --force-reinstall'"
     ]
    }
   ],
   "source": [
    "String1 = 'Basics of Python'\n",
    "print(\"String with the use of Single Quotes: \",String1) \n",
    " "
   ]
  },
  {
   "cell_type": "code",
   "execution_count": null,
   "id": "83e5d24d-d154-490d-ace7-e2f0c045f0d8",
   "metadata": {},
   "outputs": [],
   "source": []
  },
  {
   "cell_type": "code",
   "execution_count": null,
   "id": "587451ed-acfe-4ef1-bc67-8754ef65cc36",
   "metadata": {},
   "outputs": [
    {
     "data": {
      "text/plain": [
       "\"Today's lecture: Basics of Python\""
      ]
     },
     "execution_count": 9,
     "metadata": {},
     "output_type": "execute_result"
    }
   ],
   "source": [
    "String2 = f\"Today's lecture: {String1}\"\n",
    "String2"
   ]
  },
  {
   "cell_type": "code",
   "execution_count": null,
   "id": "43bf6e90-56de-4a92-879c-f3b425e6840e",
   "metadata": {},
   "outputs": [],
   "source": []
  },
  {
   "cell_type": "code",
   "execution_count": null,
   "id": "1fc46e10-f2f6-4ccb-b38b-7f74d74b001e",
   "metadata": {},
   "outputs": [],
   "source": []
  },
  {
   "cell_type": "markdown",
   "id": "329d3d6a-9210-4ce3-9c50-feb3a6fb6b13",
   "metadata": {},
   "source": [
    "## 'end' in print in python"
   ]
  },
  {
   "cell_type": "code",
   "execution_count": null,
   "id": "15be9f57-ff33-46a5-8da8-a427dd4c0490",
   "metadata": {},
   "outputs": [
    {
     "name": "stdout",
     "output_type": "stream",
     "text": [
      "0\n",
      "1\n",
      "2\n",
      "3\n",
      "4\n",
      "Printing numbers from 0 to 4 with space separator:\n",
      "0 1 2 3 4 \n",
      "Printing numbers from 0 to 4 without any separator:\n",
      "01234"
     ]
    }
   ],
   "source": [
    "# Without using end parameter\n",
    "for i in range(5):\n",
    "    print(i)\n",
    "\n",
    "\n",
    "# Using end parameter to print in the same line with a space separator\n",
    "print(\"Printing numbers from 0 to 4 with space separator:\")\n",
    "for i in range(5):\n",
    "    print(i, end=\" \")\n",
    "\n",
    "\n",
    "\n",
    "# Using end parameter to print in the same line without any separator\n",
    "print(\"\\nPrinting numbers from 0 to 4 without any separator:\")\n",
    "for i in range(5):\n",
    "    print(i, end=\"\")\n",
    "\n"
   ]
  },
  {
   "cell_type": "code",
   "execution_count": null,
   "id": "ae264887-e65a-4657-9540-e03956c08316",
   "metadata": {},
   "outputs": [],
   "source": []
  }
 ],
 "metadata": {
  "kernelspec": {
   "display_name": "Python 3 (ipykernel)",
   "language": "python",
   "name": "python3"
  },
  "language_info": {
   "codemirror_mode": {
    "name": "ipython",
    "version": 3
   },
   "file_extension": ".py",
   "mimetype": "text/x-python",
   "name": "python",
   "nbconvert_exporter": "python",
   "pygments_lexer": "ipython3",
   "version": "3.12.2"
  }
 },
 "nbformat": 4,
 "nbformat_minor": 5
}
